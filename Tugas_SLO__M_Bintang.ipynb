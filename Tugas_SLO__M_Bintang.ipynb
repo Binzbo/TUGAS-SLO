{
  "nbformat": 4,
  "nbformat_minor": 0,
  "metadata": {
    "colab": {
      "provenance": []
    },
    "kernelspec": {
      "name": "python3",
      "display_name": "Python 3"
    },
    "language_info": {
      "name": "python"
    }
  },
  "cells": [
    {
      "cell_type": "code",
      "execution_count": null,
      "metadata": {
        "colab": {
          "base_uri": "https://localhost:8080/",
          "height": 74
        },
        "id": "BD3y9rk8kpys",
        "outputId": "0370d6ce-5602-4b4b-b246-8223c3153b4d"
      },
      "outputs": [
        {
          "output_type": "display_data",
          "data": {
            "text/plain": [
              "<IPython.core.display.HTML object>"
            ],
            "text/html": [
              "\n",
              "     <input type=\"file\" id=\"files-ccb086d1-a829-4f91-b803-7a3474c751c6\" name=\"files[]\" multiple disabled\n",
              "        style=\"border:none\" />\n",
              "     <output id=\"result-ccb086d1-a829-4f91-b803-7a3474c751c6\">\n",
              "      Upload widget is only available when the cell has been executed in the\n",
              "      current browser session. Please rerun this cell to enable.\n",
              "      </output>\n",
              "      <script>// Copyright 2017 Google LLC\n",
              "//\n",
              "// Licensed under the Apache License, Version 2.0 (the \"License\");\n",
              "// you may not use this file except in compliance with the License.\n",
              "// You may obtain a copy of the License at\n",
              "//\n",
              "//      http://www.apache.org/licenses/LICENSE-2.0\n",
              "//\n",
              "// Unless required by applicable law or agreed to in writing, software\n",
              "// distributed under the License is distributed on an \"AS IS\" BASIS,\n",
              "// WITHOUT WARRANTIES OR CONDITIONS OF ANY KIND, either express or implied.\n",
              "// See the License for the specific language governing permissions and\n",
              "// limitations under the License.\n",
              "\n",
              "/**\n",
              " * @fileoverview Helpers for google.colab Python module.\n",
              " */\n",
              "(function(scope) {\n",
              "function span(text, styleAttributes = {}) {\n",
              "  const element = document.createElement('span');\n",
              "  element.textContent = text;\n",
              "  for (const key of Object.keys(styleAttributes)) {\n",
              "    element.style[key] = styleAttributes[key];\n",
              "  }\n",
              "  return element;\n",
              "}\n",
              "\n",
              "// Max number of bytes which will be uploaded at a time.\n",
              "const MAX_PAYLOAD_SIZE = 100 * 1024;\n",
              "\n",
              "function _uploadFiles(inputId, outputId) {\n",
              "  const steps = uploadFilesStep(inputId, outputId);\n",
              "  const outputElement = document.getElementById(outputId);\n",
              "  // Cache steps on the outputElement to make it available for the next call\n",
              "  // to uploadFilesContinue from Python.\n",
              "  outputElement.steps = steps;\n",
              "\n",
              "  return _uploadFilesContinue(outputId);\n",
              "}\n",
              "\n",
              "// This is roughly an async generator (not supported in the browser yet),\n",
              "// where there are multiple asynchronous steps and the Python side is going\n",
              "// to poll for completion of each step.\n",
              "// This uses a Promise to block the python side on completion of each step,\n",
              "// then passes the result of the previous step as the input to the next step.\n",
              "function _uploadFilesContinue(outputId) {\n",
              "  const outputElement = document.getElementById(outputId);\n",
              "  const steps = outputElement.steps;\n",
              "\n",
              "  const next = steps.next(outputElement.lastPromiseValue);\n",
              "  return Promise.resolve(next.value.promise).then((value) => {\n",
              "    // Cache the last promise value to make it available to the next\n",
              "    // step of the generator.\n",
              "    outputElement.lastPromiseValue = value;\n",
              "    return next.value.response;\n",
              "  });\n",
              "}\n",
              "\n",
              "/**\n",
              " * Generator function which is called between each async step of the upload\n",
              " * process.\n",
              " * @param {string} inputId Element ID of the input file picker element.\n",
              " * @param {string} outputId Element ID of the output display.\n",
              " * @return {!Iterable<!Object>} Iterable of next steps.\n",
              " */\n",
              "function* uploadFilesStep(inputId, outputId) {\n",
              "  const inputElement = document.getElementById(inputId);\n",
              "  inputElement.disabled = false;\n",
              "\n",
              "  const outputElement = document.getElementById(outputId);\n",
              "  outputElement.innerHTML = '';\n",
              "\n",
              "  const pickedPromise = new Promise((resolve) => {\n",
              "    inputElement.addEventListener('change', (e) => {\n",
              "      resolve(e.target.files);\n",
              "    });\n",
              "  });\n",
              "\n",
              "  const cancel = document.createElement('button');\n",
              "  inputElement.parentElement.appendChild(cancel);\n",
              "  cancel.textContent = 'Cancel upload';\n",
              "  const cancelPromise = new Promise((resolve) => {\n",
              "    cancel.onclick = () => {\n",
              "      resolve(null);\n",
              "    };\n",
              "  });\n",
              "\n",
              "  // Wait for the user to pick the files.\n",
              "  const files = yield {\n",
              "    promise: Promise.race([pickedPromise, cancelPromise]),\n",
              "    response: {\n",
              "      action: 'starting',\n",
              "    }\n",
              "  };\n",
              "\n",
              "  cancel.remove();\n",
              "\n",
              "  // Disable the input element since further picks are not allowed.\n",
              "  inputElement.disabled = true;\n",
              "\n",
              "  if (!files) {\n",
              "    return {\n",
              "      response: {\n",
              "        action: 'complete',\n",
              "      }\n",
              "    };\n",
              "  }\n",
              "\n",
              "  for (const file of files) {\n",
              "    const li = document.createElement('li');\n",
              "    li.append(span(file.name, {fontWeight: 'bold'}));\n",
              "    li.append(span(\n",
              "        `(${file.type || 'n/a'}) - ${file.size} bytes, ` +\n",
              "        `last modified: ${\n",
              "            file.lastModifiedDate ? file.lastModifiedDate.toLocaleDateString() :\n",
              "                                    'n/a'} - `));\n",
              "    const percent = span('0% done');\n",
              "    li.appendChild(percent);\n",
              "\n",
              "    outputElement.appendChild(li);\n",
              "\n",
              "    const fileDataPromise = new Promise((resolve) => {\n",
              "      const reader = new FileReader();\n",
              "      reader.onload = (e) => {\n",
              "        resolve(e.target.result);\n",
              "      };\n",
              "      reader.readAsArrayBuffer(file);\n",
              "    });\n",
              "    // Wait for the data to be ready.\n",
              "    let fileData = yield {\n",
              "      promise: fileDataPromise,\n",
              "      response: {\n",
              "        action: 'continue',\n",
              "      }\n",
              "    };\n",
              "\n",
              "    // Use a chunked sending to avoid message size limits. See b/62115660.\n",
              "    let position = 0;\n",
              "    do {\n",
              "      const length = Math.min(fileData.byteLength - position, MAX_PAYLOAD_SIZE);\n",
              "      const chunk = new Uint8Array(fileData, position, length);\n",
              "      position += length;\n",
              "\n",
              "      const base64 = btoa(String.fromCharCode.apply(null, chunk));\n",
              "      yield {\n",
              "        response: {\n",
              "          action: 'append',\n",
              "          file: file.name,\n",
              "          data: base64,\n",
              "        },\n",
              "      };\n",
              "\n",
              "      let percentDone = fileData.byteLength === 0 ?\n",
              "          100 :\n",
              "          Math.round((position / fileData.byteLength) * 100);\n",
              "      percent.textContent = `${percentDone}% done`;\n",
              "\n",
              "    } while (position < fileData.byteLength);\n",
              "  }\n",
              "\n",
              "  // All done.\n",
              "  yield {\n",
              "    response: {\n",
              "      action: 'complete',\n",
              "    }\n",
              "  };\n",
              "}\n",
              "\n",
              "scope.google = scope.google || {};\n",
              "scope.google.colab = scope.google.colab || {};\n",
              "scope.google.colab._files = {\n",
              "  _uploadFiles,\n",
              "  _uploadFilesContinue,\n",
              "};\n",
              "})(self);\n",
              "</script> "
            ]
          },
          "metadata": {}
        },
        {
          "output_type": "stream",
          "name": "stdout",
          "text": [
            "Saving epl-goalScorer(20-21).csv to epl-goalScorer(20-21) (1).csv\n"
          ]
        }
      ],
      "source": [
        "from google.colab import files\n",
        "uploaded = files.upload()\n"
      ]
    },
    {
      "cell_type": "code",
      "source": [
        "import pandas as pd\n",
        "\n",
        "df = pd.read_csv('epl-goalScorer(20-21).csv')\n",
        "print(df.head())\n"
      ],
      "metadata": {
        "colab": {
          "base_uri": "https://localhost:8080/"
        },
        "id": "3gw2sRERluh5",
        "outputId": "740ebb89-3d55-42b7-bc33-775d19762c65"
      },
      "execution_count": null,
      "outputs": [
        {
          "output_type": "stream",
          "name": "stdout",
          "text": [
            "   Unnamed: 0    id      player_name  games  time  goals         xG  assists  \\\n",
            "0           0   647       Harry Kane     35  3097     23  22.174859       14   \n",
            "1           1  1250    Mohamed Salah     37  3085     22  20.250847        5   \n",
            "2           2  1228  Bruno Fernandes     37  3117     18  16.019454       12   \n",
            "3           3   453    Son Heung-Min     37  3139     17  11.023287       10   \n",
            "4           4   822  Patrick Bamford     38  3085     17  18.401863        7   \n",
            "\n",
            "          xA  shots  key_passes  yellow_cards  red_cards position  \\\n",
            "0   7.577094    138          49             1          0        F   \n",
            "1   6.528526    126          55             0          0    F M S   \n",
            "2  11.474996    121          95             6          0      M S   \n",
            "3   9.512992     68          75             0          0    F M S   \n",
            "4   3.782247    107          30             3          0      F S   \n",
            "\n",
            "          team_title  npg       npxG    xGChain  xGBuildup  \n",
            "0          Tottenham   19  19.130183  24.995648   4.451257  \n",
            "1          Liverpool   16  15.683834  28.968234   9.800236  \n",
            "2  Manchester United    9   8.407840  26.911412  11.932285  \n",
            "3          Tottenham   16  10.262118  20.671916   6.608751  \n",
            "4              Leeds   15  16.879525  23.394953   4.131796  \n"
          ]
        }
      ]
    },
    {
      "cell_type": "markdown",
      "source": [
        "10 top scorer pencetak goal"
      ],
      "metadata": {
        "id": "AtLoe9rhm-pe"
      }
    },
    {
      "cell_type": "code",
      "source": [
        "sorted_df = df.sort_values(by='goals', ascending=False)\n",
        "\n",
        "top_10_scorers = sorted_df.head(10)[['player_name', 'goals']]\n",
        "print(top_10_scorers)\n"
      ],
      "metadata": {
        "colab": {
          "base_uri": "https://localhost:8080/"
        },
        "id": "nESX13OsmVLv",
        "outputId": "7790dde3-5d84-4681-a7ce-0b6fce15816a"
      },
      "execution_count": null,
      "outputs": [
        {
          "output_type": "stream",
          "name": "stdout",
          "text": [
            "             player_name  goals\n",
            "0             Harry Kane     23\n",
            "1          Mohamed Salah     22\n",
            "2        Bruno Fernandes     18\n",
            "3          Son Heung-Min     17\n",
            "4        Patrick Bamford     17\n",
            "5  Dominic Calvert-Lewin     16\n",
            "6            Jamie Vardy     15\n",
            "7          Ollie Watkins     14\n",
            "8         Ilkay Gündogan     13\n",
            "9    Alexandre Lacazette     13\n"
          ]
        }
      ]
    },
    {
      "cell_type": "markdown",
      "source": [
        "10 player terlama durasi bermain"
      ],
      "metadata": {
        "id": "8vDBeBS1nMJq"
      }
    },
    {
      "cell_type": "code",
      "source": [
        "sorted_df = df.sort_values(by='time', ascending=False)\n",
        "\n",
        "top_10_pemain_terlama = sorted_df.head(10)[['player_name', 'time']]\n",
        "print(top_10_pemain_terlama)"
      ],
      "metadata": {
        "colab": {
          "base_uri": "https://localhost:8080/"
        },
        "id": "iMoS1wLBnVk7",
        "outputId": "7598c95f-fd36-4ea0-b0e1-25f92827e827"
      },
      "execution_count": null,
      "outputs": [
        {
          "output_type": "stream",
          "name": "stdout",
          "text": [
            "               player_name  time\n",
            "296            Hugo Lloris  3420\n",
            "378      Emiliano Martinez  3420\n",
            "311      Kasper Schmeichel  3420\n",
            "110  Pierre-Emile Højbjerg  3420\n",
            "40           Stuart Dallas  3412\n",
            "327           Matt Targett  3407\n",
            "480            Luke Ayling  3400\n",
            "204       Andrew Robertson  3391\n",
            "55         Youri Tielemans  3359\n",
            "7            Ollie Watkins  3330\n"
          ]
        }
      ]
    },
    {
      "cell_type": "markdown",
      "source": [
        "10 player terbanyak assist"
      ],
      "metadata": {
        "id": "_uJnGcqWnwYO"
      }
    },
    {
      "cell_type": "code",
      "source": [
        "sorted_df = df.sort_values(by='assists', ascending=False)\n",
        "\n",
        "top_10_assist = sorted_df.head(10)[['player_name', 'assists']]\n",
        "print(top_10_assist)"
      ],
      "metadata": {
        "colab": {
          "base_uri": "https://localhost:8080/"
        },
        "id": "v13-ezA9nzAh",
        "outputId": "953f3473-aa85-4f7a-99d4-17dc47cae797"
      },
      "execution_count": null,
      "outputs": [
        {
          "output_type": "stream",
          "name": "stdout",
          "text": [
            "         player_name  assists\n",
            "0         Harry Kane       14\n",
            "2    Bruno Fernandes       12\n",
            "58   Kevin De Bruyne       11\n",
            "3      Son Heung-Min       10\n",
            "51     Jack Grealish       10\n",
            "15   Marcus Rashford        9\n",
            "6        Jamie Vardy        9\n",
            "57          Raphinha        9\n",
            "49       Timo Werner        8\n",
            "281  Aaron Cresswell        8\n"
          ]
        }
      ]
    },
    {
      "cell_type": "code",
      "source": [
        "4 player mencetak goal terbanyak dari kesebelasan manchester city"
      ],
      "metadata": {
        "id": "GMTciAzkoDzq"
      },
      "execution_count": null,
      "outputs": []
    },
    {
      "cell_type": "code",
      "source": [
        "man_city_players = df[df['team_title'] == 'Manchester City']\n",
        "sorted_man_city_players = man_city_players.sort_values(by='goals', ascending=False)\n",
        "top_4_man_city_scorers = sorted_man_city_players.head(4)[['player_name', 'goals']]\n",
        "print(top_4_man_city_scorers)"
      ],
      "metadata": {
        "colab": {
          "base_uri": "https://localhost:8080/"
        },
        "id": "5br_hVeQofzJ",
        "outputId": "5ddec5e1-05b4-4e0d-b162-fff96615601c"
      },
      "execution_count": null,
      "outputs": [
        {
          "output_type": "stream",
          "name": "stdout",
          "text": [
            "        player_name  goals\n",
            "8    Ilkay Gündogan     13\n",
            "22  Raheem Sterling     10\n",
            "28     Riyad Mahrez      9\n",
            "35    Gabriel Jesus      8\n"
          ]
        }
      ]
    },
    {
      "cell_type": "markdown",
      "source": [
        "dari team mana pencetakan goal terbanyak"
      ],
      "metadata": {
        "id": "wu2kgFTao6aX"
      }
    },
    {
      "cell_type": "code",
      "source": [
        "goals_by_team = df.groupby('team_title')['goals'].sum()\n",
        "team_with_most_goals = goals_by_team.idxmax()\n",
        "print(\"Tim dengan pencetak gol terbanyak:\", team_with_most_goals)"
      ],
      "metadata": {
        "colab": {
          "base_uri": "https://localhost:8080/"
        },
        "id": "Wir62dHdozmE",
        "outputId": "54364f4d-4a08-47c1-fe42-f787a78e4ab4"
      },
      "execution_count": null,
      "outputs": [
        {
          "output_type": "stream",
          "name": "stdout",
          "text": [
            "Tim dengan pencetak gol terbanyak: Manchester City\n"
          ]
        }
      ]
    },
    {
      "cell_type": "markdown",
      "source": [
        "berapa jumlah kartu kuning dan merah yang diterima pembuat assist terbanyak"
      ],
      "metadata": {
        "id": "n8X7hY84pbEd"
      }
    },
    {
      "cell_type": "code",
      "source": [
        "top_assister = df.loc[df['assists'].idxmax()]\n",
        "top_assister_name = top_assister['player_name']\n",
        "yellow_cards = top_assister['yellow_cards']\n",
        "red_cards = top_assister['red_cards']\n",
        "print(\"Pembuat assist terbanyak:\", top_assister_name)\n",
        "print(\"Jumlah kartu kuning yang diterima:\", yellow_cards)\n",
        "print(\"Jumlah kartu merah yang diterima:\", red_cards)"
      ],
      "metadata": {
        "colab": {
          "base_uri": "https://localhost:8080/"
        },
        "id": "E21872Uzpw0D",
        "outputId": "d4007122-b1ed-4109-e58b-af5ac6a7c8f1"
      },
      "execution_count": null,
      "outputs": [
        {
          "output_type": "stream",
          "name": "stdout",
          "text": [
            "Pembuat assist terbanyak: Harry Kane\n",
            "Jumlah kartu kuning yang diterima: 1\n",
            "Jumlah kartu merah yang diterima: 0\n"
          ]
        }
      ]
    },
    {
      "cell_type": "markdown",
      "source": [
        "siapa yang jumlah assist dan goalnya paling banyak dan dari kesebelasan mana"
      ],
      "metadata": {
        "id": "iv04kG25qA0I"
      }
    },
    {
      "cell_type": "code",
      "source": [
        "df['Total'] = df['goals'] + df['assists']\n",
        "top_player = df.loc[df['Total'].idxmax()]\n",
        "player_name = top_player['player_name']\n",
        "total_goals = top_player['goals']\n",
        "total_assists = top_player['assists']\n",
        "team = top_player['team_title']\n",
        "print(\"Pemain dengan jumlah gol dan assist paling banyak:\")\n",
        "print(\"Nama:\", player_name)\n",
        "print(\"Jumlah Gol:\", total_goals)\n",
        "print(\"Jumlah Assist:\", total_assists)\n",
        "print(\"Kesebelasan:\", team)"
      ],
      "metadata": {
        "colab": {
          "base_uri": "https://localhost:8080/"
        },
        "id": "ZndvloGrqPeA",
        "outputId": "f9f768d1-44e3-4071-95c3-0e69061ce6c9"
      },
      "execution_count": null,
      "outputs": [
        {
          "output_type": "stream",
          "name": "stdout",
          "text": [
            "Pemain dengan jumlah gol dan assist paling banyak:\n",
            "Nama: Harry Kane\n",
            "Jumlah Gol: 23\n",
            "Jumlah Assist: 14\n",
            "Kesebelasan: Tottenham\n"
          ]
        }
      ]
    },
    {
      "cell_type": "markdown",
      "source": [
        "5 kesebelasan yang menyumbang goal terbanyak"
      ],
      "metadata": {
        "id": "4karcpBVrMWt"
      }
    },
    {
      "cell_type": "code",
      "source": [
        "goals_by_team = df.groupby('team_title')['goals'].sum()\n",
        "top_5_teams = goals_by_team.sort_values(ascending=False).head(5)\n",
        "print(\"5 kesebelasan yang menyumbangkan goal terbanyak:\")\n",
        "print(top_5_teams)"
      ],
      "metadata": {
        "colab": {
          "base_uri": "https://localhost:8080/"
        },
        "id": "kNZmpx5orOoF",
        "outputId": "ba1ee52d-23b8-4449-9b0f-956b28715d1d"
      },
      "execution_count": null,
      "outputs": [
        {
          "output_type": "stream",
          "name": "stdout",
          "text": [
            "5 kesebelasan yang menyumbangkan goal terbanyak:\n",
            "team_title\n",
            "Manchester City      77\n",
            "Manchester United    68\n",
            "Tottenham            66\n",
            "Liverpool            64\n",
            "Leicester            64\n",
            "Name: goals, dtype: int64\n"
          ]
        }
      ]
    },
    {
      "cell_type": "markdown",
      "source": [
        "Urutkan pemain berdasarkan jumlah gol terbanyak tanpa mendapatkan kartu sama sekali"
      ],
      "metadata": {
        "id": "Naema2zlr9T7"
      }
    },
    {
      "cell_type": "code",
      "source": [
        "\n",
        "sorted_players = df[(df['yellow_cards'] == 0) & (df['red_cards'] == 0)].sort_values(by='goals', ascending=False)\n",
        "\n",
        "print(\"Pemain yang tidak mendapatkan kartu kuning atau merah dan memiliki jumlah gol terbanyak:\")\n",
        "print(sorted_players[['player_name', 'team_title', 'goals']])"
      ],
      "metadata": {
        "colab": {
          "base_uri": "https://localhost:8080/"
        },
        "id": "_DxTUwnPsBfT",
        "outputId": "297ed49a-c139-499b-d7b3-5dcb8191abcb"
      },
      "execution_count": null,
      "outputs": [
        {
          "output_type": "stream",
          "name": "stdout",
          "text": [
            "Pemain yang tidak mendapatkan kartu kuning atau merah dan memiliki jumlah gol terbanyak:\n",
            "         player_name        team_title  goals\n",
            "1      Mohamed Salah         Liverpool     22\n",
            "3      Son Heung-Min         Tottenham     17\n",
            "13        Chris Wood           Burnley     12\n",
            "28      Riyad Mahrez   Manchester City      9\n",
            "29     Harvey Barnes         Leicester      9\n",
            "..               ...               ...    ...\n",
            "353      Lys Mousset  Sheffield United      0\n",
            "343    Islam Slimani         Leicester      0\n",
            "341       Moise Kean           Everton      0\n",
            "340          Emerson           Chelsea      0\n",
            "521  Tyrese Francois            Fulham      0\n",
            "\n",
            "[164 rows x 3 columns]\n"
          ]
        }
      ]
    },
    {
      "cell_type": "markdown",
      "source": [],
      "metadata": {
        "id": "6Mz0Z94Qp8w4"
      }
    }
  ]
}